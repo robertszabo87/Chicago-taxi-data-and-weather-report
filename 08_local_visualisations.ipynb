{
 "cells": [
  {
   "cell_type": "code",
   "execution_count": 1,
   "metadata": {},
   "outputs": [
    {
     "ename": "ModuleNotFoundError",
     "evalue": "No module named 'boto3'",
     "output_type": "error",
     "traceback": [
      "\u001b[1;31m---------------------------------------------------------------------------\u001b[0m",
      "\u001b[1;31mModuleNotFoundError\u001b[0m                       Traceback (most recent call last)",
      "Cell \u001b[1;32mIn[1], line 4\u001b[0m\n\u001b[0;32m      2\u001b[0m \u001b[38;5;28;01mimport\u001b[39;00m \u001b[38;5;21;01mos\u001b[39;00m\n\u001b[0;32m      3\u001b[0m \u001b[38;5;28;01mimport\u001b[39;00m \u001b[38;5;21;01mpandas\u001b[39;00m \u001b[38;5;28;01mas\u001b[39;00m \u001b[38;5;21;01mpd\u001b[39;00m\n\u001b[1;32m----> 4\u001b[0m \u001b[38;5;28;01mimport\u001b[39;00m \u001b[38;5;21;01mboto3\u001b[39;00m\n\u001b[0;32m      5\u001b[0m pd\u001b[38;5;241m.\u001b[39mset_option(\u001b[38;5;124m\"\u001b[39m\u001b[38;5;124mdisplay.max_columns\u001b[39m\u001b[38;5;124m\"\u001b[39m, \u001b[38;5;241m50\u001b[39m)\n",
      "\u001b[1;31mModuleNotFoundError\u001b[0m: No module named 'boto3'"
     ]
    }
   ],
   "source": [
    "from io import StringIO\n",
    "import os\n",
    "import pandas as pd\n",
    "import boto3\n",
    "pd.set_option(\"display.max_columns\", 50)"
   ]
  },
  {
   "cell_type": "code",
   "execution_count": null,
   "metadata": {},
   "outputs": [],
   "source": [
    "aws_access_key_id = os.getenv(\"AWS_ACCESS_KEY\")\n",
    "aws_secret_key = os.getenv(\"AWS_SECRET_KEY\")"
   ]
  },
  {
   "cell_type": "code",
   "execution_count": null,
   "metadata": {},
   "outputs": [],
   "source": [
    "def read_csv_froms3(bucket: str, path: str, filename: str) -> pd.DataFrame:\n",
    "    \"\"\"Downloads a csv file from an S3 bucket.\n",
    "    \n",
    "    Parameters\n",
    "    ----------\n",
    "    bucket  : str\n",
    "        The bucket where the files at.\n",
    "    path : str\n",
    "        The folders to the file.\n",
    "    filename : str\n",
    "        The name of the file\n",
    "    \n",
    "    Returns\n",
    "    -------\n",
    "    pd.DataFrame\n",
    "        A Dataframe of the downloaded file.\n",
    "    \"\"\"\n",
    "    s3 = boto3.client(\"s3\", aws_access_key_id=aws_access_key_id, aws_secret_access_key=aws_secret_key)\n",
    "    full_path = f\"{path}{filename}\"\n",
    "    \n",
    "    \n",
    "    object = s3.get_object(Bucket=bucket, Key=full_path)\n",
    "    object = object[\"Body\"].read().decode(\"utf-8\")\n",
    "    output_df = pd.read_csv(StringIO(object))\n",
    "    \n",
    "    return output_df"
   ]
  },
  {
   "cell_type": "code",
   "execution_count": null,
   "metadata": {},
   "outputs": [],
   "source": [
    "s3 = boto3.client(\"s3\", aws_access_key_id=aws_access_key_id, aws_secret_access_key=aws_secret_key)\n",
    "bucket =\"cubix-chicago-taxi-szr\"\n",
    "\n",
    "community_areas_path = \"transformed_data/community_areas/\"\n",
    "company_path = \"transformed_data/company/\"\n",
    "date_path = \"transformed_data/date/\"\n",
    "payment_type_path = \"transformed_data/payment_type/\"\n",
    "taxi_trips_path = \"transformed_data/taxi_trips/\"\n",
    "weather_path = \"transformed_data/weather/\""
   ]
  },
  {
   "cell_type": "code",
   "execution_count": null,
   "metadata": {},
   "outputs": [],
   "source": [
    "\n",
    "community_areas = read_csv_from_s3(bucket, community_areas_path,\"community_areas_master.csv\")\n",
    "company = read_csv_from_s3(bucket, company_path,\"company_master.csv\")\n",
    "date = read_csv_from_s3(bucket, date_path,\"date_dimension.csv\")\n",
    "payment_type = read_csv_from_s3(bucket, payment_type_path,\"payment_type_master.csv\")              \n"
   ]
  },
  {
   "cell_type": "code",
   "execution_count": null,
   "metadata": {},
   "outputs": [],
   "source": [
    "trips_list =[]\n",
    "weather_list = []"
   ]
  },
  {
   "cell_type": "code",
   "execution_count": null,
   "metadata": {},
   "outputs": [],
   "source": [
    "\n",
    "\n",
    "for file in s3.list_objects(Bucket=bucket, Prefix=taxi_trips_path)[\"Contents\"]:\n",
    "    taxi_trip_key = file[\"Key\"]\n",
    "        \n",
    "    if taxi_trip_key.split(\"/\")[-1] != \"\":\n",
    "        if taxi_trip_key.split(\".\")[1] == \"csv\":\n",
    "            \n",
    "            filename = taxi_trip_key.split(\"/\")[-1]\n",
    "            trip = read_csv_froms3(bucket=bucket, taxi_trips_path, filename)\n",
    "\n",
    "            trips_list.append(trip)\n",
    "            print(f\"{filename} has been added\")\n",
    "                "
   ]
  },
  {
   "cell_type": "code",
   "execution_count": null,
   "metadata": {},
   "outputs": [],
   "source": [
    "trips = pd.concat(trips_list, ignore_index=True)"
   ]
  },
  {
   "cell_type": "code",
   "execution_count": null,
   "metadata": {},
   "outputs": [],
   "source": [
    "for file in s3.list_objects(Bucket=bucket, Prefix=weather_path)[\"Contents\"]:\n",
    "    weather_key = file[\"Key\"]\n",
    "        \n",
    "    if weather_key.split(\"/\")[-1] != \"\":\n",
    "        if weather_key.split(\".\")[1] == \"csv\":\n",
    "                \n",
    "            filename = weather_key.split(\"/\")[-1]\n",
    "            weather_daily= read_csv_froms3(bucket=bucket, weather_path, filename)\n",
    "\n",
    "            weather_list.append(weather_daily)\n",
    "            print(f\"{filename} has been added\")\n",
    "                \n",
    "           "
   ]
  },
  {
   "cell_type": "code",
   "execution_count": null,
   "metadata": {},
   "outputs": [],
   "source": [
    "weather = pd.concat(weather_list, ignore_index=True)"
   ]
  },
  {
   "cell_type": "code",
   "execution_count": null,
   "metadata": {},
   "outputs": [],
   "source": [
    "trips_full = pd.merge(trips_full, weather, left_on=\"datetime_for_weather\", right_on=\"datetime\", how=\"inner\")\n",
    "trips_full = trips_full.drop(columns=[\"datetime\"])"
   ]
  },
  {
   "cell_type": "code",
   "execution_count": null,
   "metadata": {},
   "outputs": [],
   "source": [
    "trips_full = pd.merge(trips_full, company, left_on=\"company_id\", right_on=\"company_id\", how=\"inner\")\n",
    "trips_full = trips_full.drop(columns=[\"company_id\"])"
   ]
  },
  {
   "cell_type": "code",
   "execution_count": null,
   "metadata": {},
   "outputs": [],
   "source": [
    "trips_full = pd.merge(trips_full, payment_type, left_on=\"payment_type_id\", right_on=\"payment_type_id\", how=\"inner\")\n",
    "trips_full = trips_full.drop(columns=[\"payment_type_id\"])"
   ]
  },
  {
   "cell_type": "code",
   "execution_count": null,
   "metadata": {},
   "outputs": [],
   "source": [
    "trips_full = pd.merge(trips_full, community_areas, left_on=\"pickup_community_area_id\", right_on=\"area_code\", how=\"inner\")\n",
    "trips_full = trips_full.drop(columns=[\"pickup_community_area_id\", \"area_code\"])\n",
    "trips_full.rename(columns={\"community_name\": \"pickup_community_area_name\"}, inplace=True)"
   ]
  },
  {
   "cell_type": "code",
   "execution_count": null,
   "metadata": {},
   "outputs": [],
   "source": [
    "trips_full = pd.merge(trips_full, community_areas, left_on=\"dropoff_community_area_id\", right_on=\"area_code\", how=\"inner\")\n",
    "trips_full = trips_full.drop(columns=[\"dropoff_community_area_id\", \"area_code\"])\n",
    "trips_full.rename(columns={\"community_name\": \"dropoff_community_area_name\"}, inplace=True)"
   ]
  },
  {
   "cell_type": "code",
   "execution_count": null,
   "metadata": {},
   "outputs": [],
   "source": [
    "date[\"date\"] = pd.to_datetime(date[\"date\"])\n",
    "trips_full[\"trip_start_timestamp\"] = pd.to_datetime(trips_full[\"trip_start_timestamp\"])\n",
    "\n",
    "trips_full[\"trip_start_date\"] = trips_full[\"trip_start_timestamp\"].dt.date\n",
    "trips_full[\"trip_start_date\"] = pd.to_datetime(trips_full[\"trip_start_date\"])\n",
    "\n"
   ]
  },
  {
   "cell_type": "code",
   "execution_count": null,
   "metadata": {},
   "outputs": [],
   "source": [
    "trips_full = pd.merge(trips_full, date, left_on=\"trip_start_date\", right_on=\"date\", how=\"inner\")\n",
    "trips_full = trips_full.drop(columns=[\"date\"])"
   ]
  },
  {
   "cell_type": "code",
   "execution_count": null,
   "metadata": {},
   "outputs": [],
   "source": []
  },
  {
   "cell_type": "code",
   "execution_count": null,
   "metadata": {},
   "outputs": [],
   "source": []
  }
 ],
 "metadata": {
  "kernelspec": {
   "display_name": "Python 3 (ipykernel)",
   "language": "python",
   "name": "python3"
  },
  "language_info": {
   "codemirror_mode": {
    "name": "ipython",
    "version": 3
   },
   "file_extension": ".py",
   "mimetype": "text/x-python",
   "name": "python",
   "nbconvert_exporter": "python",
   "pygments_lexer": "ipython3",
   "version": "3.11.7"
  }
 },
 "nbformat": 4,
 "nbformat_minor": 4
}
